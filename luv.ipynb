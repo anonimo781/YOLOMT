{
 "cells": [
  {
   "cell_type": "code",
   "execution_count": 1,
   "id": "0ff0cb56-5e97-4298-8e8b-f063b2987c81",
   "metadata": {},
   "outputs": [],
   "source": [
    "import os\n",
    "import numpy as np\n",
    "import cv2\n",
    "from tqdm import tqdm\n",
    "from PIL import Image\n",
    "import random\n"
   ]
  },
  {
   "cell_type": "code",
   "execution_count": 2,
   "id": "ffb0841a-4f84-4577-9862-8af8300f2834",
   "metadata": {},
   "outputs": [],
   "source": [
    "def luv(path_img : str,\n",
    "        save_dir_img: str,):    \n",
    "   \n",
    "    file_img = os.listdir(path_img)\n",
    "    file_img = random.sample(file_img, 10000)\n",
    "    pbar = tqdm(total=len(file_img), unit='progresso', dynamic_ncols=True, position=0, leave=True)\n",
    "    for image in sorted(file_img):\n",
    "    \n",
    "        img = cv2.imread(path_img + image)\n",
    "\n",
    "        #if len(img.shape) == 2:\n",
    "        img = cv2.cvtColor(img , cv2.COLOR_BGR2LUV)\n",
    "\n",
    "       \n",
    "        crop_img = np.asarray(img)\n",
    "   \n",
    "        img_aux = Image.fromarray(crop_img)\n",
    "        img_aux.save(save_dir_img +  image)\n",
    "        pbar.update(1)\n",
    "               \n"
   ]
  },
  {
   "cell_type": "code",
   "execution_count": 3,
   "id": "21d17968-184d-4bd8-9172-6326a863c6cd",
   "metadata": {},
   "outputs": [
    {
     "name": "stderr",
     "output_type": "stream",
     "text": [
      "  0%|          | 0/3450 [00:00<?, ?progresso/s]"
     ]
    },
    {
     "name": "stderr",
     "output_type": "stream",
     "text": [
      "100%|██████████| 3450/3450 [12:43<00:00,  4.52progresso/s]  \n"
     ]
    }
   ],
   "source": [
    "path_img = \"mlp_yolo/no_bacilo_train/\"\n",
    "dest_img = \"luv_640X640/train/no_bacilo/images/\"\n",
    "\n",
    "luv(path_img,dest_img)\n",
    "    \n"
   ]
  },
  {
   "cell_type": "code",
   "execution_count": 20,
   "id": "deb27bde",
   "metadata": {},
   "outputs": [
    {
     "name": "stderr",
     "output_type": "stream",
     "text": [
      "  0%|          | 0/218 [01:40<?, ?progresso/s]]\n",
      "  0%|          | 0/218 [05:08<?, ?progresso/s]\n",
      "  0%|          | 0/218 [03:56<?, ?progresso/s]\n",
      "  0%|          | 0/741 [00:00<?, ?progresso/s]"
     ]
    }
   ],
   "source": [
    "path_img = \"yolo/train/bacilo/images/\"\n",
    "dest_img = \"luv_200X200/train/bacilo/images/\"\n",
    "\n",
    "luv(path_img,dest_img)\n",
    "path_img = \"yolo/valid/bacilo/images/\"\n",
    "dest_img = \"luv_200X200/valid/bacilo/images/\"\n",
    "\n",
    "luv(path_img,dest_img)"
   ]
  },
  {
   "cell_type": "code",
   "execution_count": 27,
   "id": "fa1f5e20",
   "metadata": {},
   "outputs": [
    {
     "name": "stderr",
     "output_type": "stream",
     "text": [
      "100%|██████████| 3500/3500 [06:20<00:00,  9.20progresso/s]\n",
      "100%|██████████| 450/450 [01:08<00:00,  6.60progresso/s]\n",
      "100%|█████████▉| 1050/1051 [01:35<00:00, 12.63progresso/s]"
     ]
    },
    {
     "name": "stderr",
     "output_type": "stream",
     "text": [
      "100%|██████████| 1051/1051 [01:52<00:00, 12.63progresso/s]"
     ]
    }
   ],
   "source": [
    "\n",
    "\n",
    "path_img = \"yolo_200x200/val/images/\"\n",
    "dest_img = \"luv_600X600/valid/bacilo/images/\"\n",
    "luv(path_img,dest_img)\n",
    "\n",
    "path_img = \"yolo_200x200/test/images/\"\n",
    "    print(\"MlpMixerModel\", flush=True)\n",
    "dest_img = \"luv_600X600/test/bacilo/images/\"\n",
    "luv(path_img,dest_img)"
   ]
  },
  {
   "cell_type": "code",
   "execution_count": 4,
   "id": "58274e65",
   "metadata": {},
   "outputs": [
    {
     "name": "stderr",
     "output_type": "stream",
     "text": [
      "100%|██████████| 10000/10000 [13:38<00:00, 12.22progresso/s] \n"
     ]
    }
   ],
   "source": [
    "path_img = \"yolo_200x200/train/images/\"\n",
    "dest_img = \"luv_600X600/train/bacilo/images/\"\n",
    "luv(path_img,dest_img)"
   ]
  }
 ],
 "metadata": {
  "kernelspec": {
   "display_name": "Python 3",
   "language": "python",
   "name": "python3"
  },
  "language_info": {
   "codemirror_mode": {
    "name": "ipython",
    "version": 3
   },
   "file_extension": ".py",
   "mimetype": "text/x-python",
   "name": "python",
   "nbconvert_exporter": "python",
   "pygments_lexer": "ipython3",
   "version": "3.9.13"
  }
 },
 "nbformat": 4,
 "nbformat_minor": 5
}
