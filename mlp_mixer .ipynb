{
 "cells": [
  {
   "cell_type": "code",
   "execution_count": null,
   "metadata": {},
   "outputs": [],
   "source": [
    "import random\n",
    "import numpy as np\n",
    "import glob\n",
    "\n",
    "#from tensorflow import keras\n",
    "#from mlp_mixer import MlpMixerModel\n",
    "\n",
    "from skimage.io import imread, imread_collection, imshow, imsave\n",
    "from sklearn.model_selection import train_test_split\n",
    "from sklearn.metrics import (\n",
    "    accuracy_score,\n",
    "    precision_score,\n",
    "    recall_score,\n",
    "    f1_score,\n",
    "    confusion_matrix,\n",
    "    cohen_kappa_score,\n",
    ")\n"
   ]
  },
  {
   "cell_type": "code",
   "execution_count": null,
   "metadata": {},
   "outputs": [],
   "source": [
    "images_bacillus = glob.glob(\"dataset_mlp_200x200/bacilo/train/images/*.png\")\n",
    "images_no_bacillus = glob.glob(\"dataset_mlp_200x200/no_bacilo/train/images/*.png\")\n"
   ]
  },
  {
   "cell_type": "code",
   "execution_count": null,
   "metadata": {},
   "outputs": [],
   "source": [
    "\n",
    "\n",
    "def load_data(bac, no_bac, tam_img):\n",
    "    \n",
    "    images_bacillus = glob.glob(bac)\n",
    "    images_bacillus = random.sample(images_bacillus, tam_img)\n",
    "    images_no_bacillus = glob.glob(no_bac)\n",
    "    images_no_bacillus = random.sample(images_no_bacillus, len(images_bacillus))\n",
    "    images = images_bacillus + images_no_bacillus\n",
    "    labels = np.concatenate((np.ones(len(images_bacillus)), np.zeros(len(images_no_bacillus))))\n",
    "    images = imread_collection(images)\n",
    "    images = list(map(lambda x: np.asarray(x), images))\n",
    "    labels = np.asarray(labels).astype('float32').reshape((-1,1))\n",
    "    \n",
    "    return images, labels"
   ]
  },
  {
   "cell_type": "code",
   "execution_count": null,
   "metadata": {},
   "outputs": [],
   "source": [
    "x_train, y_train = load_data(\"dataset_mlp_200x200/bacilo/train/images/*.png\", \"dataset_mlp_200x200/no_bacilo/train/images/*.png\", 50)\n",
    "x_val, y_val = load_data(\"dataset_mlp_200x200/bacilo/test/images/*.png\", \"dataset_mlp_200x200/no_bacilo/test/images/*.png\", 50)"
   ]
  },
  {
   "cell_type": "code",
   "execution_count": null,
   "metadata": {},
   "outputs": [],
   "source": [
    "x_train, y_train = np.array(x_train), np.array(y_train)\n",
    "x_val, y_val = np.array(x_val), np.array(y_val)"
   ]
  },
  {
   "cell_type": "code",
   "execution_count": null,
   "metadata": {},
   "outputs": [],
   "source": [
    "from mlp_mixer import MlpMixerModel"
   ]
  },
  {
   "cell_type": "code",
   "execution_count": null,
   "metadata": {},
   "outputs": [],
   "source": [
    "model_1 = MlpMixerModel(input_shape=x_train.shape[1:],\n",
    "                      num_classes=len(np.unique(y_train)),\n",
    "                      num_blocks=4, \n",
    "                      patch_size=1,\n",
    "                      hidden_dim=32, \n",
    "                      tokens_mlp_dim=64,\n",
    "                      channels_mlp_dim=128,\n",
    "                      use_softmax=True\n",
    "                      )\n",
    "                      \n",
    "model_1.compile(optimizer='adam', loss='sparse_categorical_crossentropy', metrics=['acc'])\n",
    "model_1.fit(x_train, y_train, validation_data=(x_val, y_val), epochs=50, batch_size=30)"
   ]
  },
  {
   "cell_type": "code",
   "execution_count": null,
   "metadata": {},
   "outputs": [],
   "source": [
    "model_1.save_weights(\"model.h5\")"
   ]
  }
 ],
 "metadata": {
  "kernelspec": {
   "display_name": "Python 3 (ipykernel)",
   "language": "python",
   "name": "python3"
  },
  "language_info": {
   "codemirror_mode": {
    "name": "ipython",
    "version": 3
   },
   "file_extension": ".py",
   "mimetype": "text/x-python",
   "name": "python",
   "nbconvert_exporter": "python",
   "pygments_lexer": "ipython3",
   "version": "3.12.2"
  }
 },
 "nbformat": 4,
 "nbformat_minor": 4
}
